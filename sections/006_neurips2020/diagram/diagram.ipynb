{
 "cells": [
  {
   "cell_type": "code",
   "execution_count": 1,
   "metadata": {},
   "outputs": [],
   "source": [
    "from matplotlib import pyplot as plt\n",
    "import numpy as np\n",
    "from scipy.stats import multivariate_normal\n",
    "import seaborn as sns"
   ]
  },
  {
   "cell_type": "code",
   "execution_count": 2,
   "metadata": {},
   "outputs": [],
   "source": [
    "rndm_ones = np.random.random([28,28]) > 0.75"
   ]
  },
  {
   "cell_type": "code",
   "execution_count": 3,
   "metadata": {},
   "outputs": [],
   "source": [
    "rdm = (rndm_ones.astype('float') + np.random.standard_normal([28,28])/5).clip(0,1)"
   ]
  },
  {
   "cell_type": "code",
   "execution_count": 4,
   "metadata": {},
   "outputs": [],
   "source": [
    "from PIL import Image"
   ]
  },
  {
   "cell_type": "code",
   "execution_count": 5,
   "metadata": {},
   "outputs": [],
   "source": [
    "im = Image.fromarray(rdm*255).convert(\"L\")"
   ]
  },
  {
   "cell_type": "code",
   "execution_count": 36,
   "metadata": {},
   "outputs": [],
   "source": [
    "diagram_path = \"/nfs/homedirs/zuegnerd/projects/uncertainty-robustness/docs/paper/figures/diagram\""
   ]
  },
  {
   "cell_type": "code",
   "execution_count": 37,
   "metadata": {},
   "outputs": [],
   "source": [
    "im.save(f\"{diagram_path}/mnist_noise.jpg\")"
   ]
  },
  {
   "cell_type": "code",
   "execution_count": 38,
   "metadata": {},
   "outputs": [
    {
     "data": {
      "image/png": "[encoded data removed]",
      "text/plain": [
       "<PIL.Image.Image image mode=L size=28x28 at 0x7F242499E908>"
      ]
     },
     "execution_count": 38,
     "metadata": {},
     "output_type": "execute_result"
    }
   ],
   "source": [
    "im"
   ]
  },
  {
   "cell_type": "code",
   "execution_count": 39,
   "metadata": {},
   "outputs": [
    {
     "data": {
      "image/png": "[encoded data removed]",
      "text/plain": [
       "<Figure size 432x288 with 1 Axes>"
      ]
     },
     "metadata": {
      "needs_background": "light"
     },
     "output_type": "display_data"
    }
   ],
   "source": [
    "plt.imshow(rdm, cmap='gray')\n",
    "plt.axis('off')\n",
    "plt.show()"
   ]
  },
  {
   "cell_type": "code",
   "execution_count": 40,
   "metadata": {},
   "outputs": [],
   "source": [
    "_cov=.4"
   ]
  },
  {
   "cell_type": "code",
   "execution_count": 41,
   "metadata": {},
   "outputs": [],
   "source": [
    "means = np.array([[ 0. ,2.],\n",
    "                  [ 1.73205081, -1. ], \n",
    "                  [-1.73205081, -1. ]])\n",
    "from scipy.stats import norm, multivariate_normal\n",
    "nrms = [multivariate_normal(mean=means[ix], cov=_cov) for ix in range(means.shape[0])]"
   ]
  },
  {
   "cell_type": "code",
   "execution_count": 174,
   "metadata": {},
   "outputs": [],
   "source": [
    "sns.set_palette(\"tab10\")"
   ]
  },
  {
   "cell_type": "code",
   "execution_count": 175,
   "metadata": {},
   "outputs": [],
   "source": [
    "randoms = np.random.standard_normal(size=[2, 20000])# * _cov + means[:,:,None]"
   ]
  },
  {
   "cell_type": "code",
   "execution_count": 186,
   "metadata": {},
   "outputs": [],
   "source": [
    "sns.set_palette(\"deep\")"
   ]
  },
  {
   "cell_type": "code",
   "execution_count": 187,
   "metadata": {},
   "outputs": [
    {
     "data": {
      "image/png": "[encoded data removed]",
      "text/plain": [
       "<Figure size 288x288 with 1 Axes>"
      ]
     },
     "metadata": {},
     "output_type": "display_data"
    }
   ],
   "source": [
    "fig = plt.figure(figsize=(4,4))\n",
    "sns.kdeplot(*randoms, shade=True, n_levels=4, shade_lowest=False, gridsize=100, bw=5)\n",
    "ax = plt.gca()\n",
    "ax.set_aspect('equal')\n",
    "plt.xticks([])\n",
    "plt.yticks([])\n",
    "plt.savefig(f\"{diagram_path}/3_gaussians.pdf\", dpi=150)\n",
    "plt.show()"
   ]
  },
  {
   "cell_type": "code",
   "execution_count": 186,
   "metadata": {},
   "outputs": [],
   "source": [
    "sns.set_palette(\"deep\")"
   ]
  },
  {
   "cell_type": "code",
   "execution_count": 188,
   "metadata": {},
   "outputs": [],
   "source": [
    "pal = sns.color_palette()"
   ]
  },
  {
   "cell_type": "code",
   "execution_count": 189,
   "metadata": {},
   "outputs": [
    {
     "data": {
      "text/plain": [
       "[(0.2980392156862745, 0.4470588235294118, 0.6901960784313725),\n",
       " (0.8666666666666667, 0.5176470588235295, 0.3215686274509804),\n",
       " (0.3333333333333333, 0.6588235294117647, 0.40784313725490196),\n",
       " (0.7686274509803922, 0.3058823529411765, 0.3215686274509804),\n",
       " (0.5058823529411764, 0.4470588235294118, 0.7019607843137254),\n",
       " (0.5764705882352941, 0.47058823529411764, 0.3764705882352941),\n",
       " (0.8549019607843137, 0.5450980392156862, 0.7647058823529411),\n",
       " (0.5490196078431373, 0.5490196078431373, 0.5490196078431373),\n",
       " (0.8, 0.7254901960784313, 0.4549019607843137),\n",
       " (0.39215686274509803, 0.7098039215686275, 0.803921568627451)]"
      ]
     },
     "execution_count": 189,
     "metadata": {},
     "output_type": "execute_result"
    }
   ],
   "source": [
    "pal"
   ]
  },
  {
   "cell_type": "code",
   "execution_count": 196,
   "metadata": {},
   "outputs": [
    {
     "data": {
      "image/png": "[encoded data removed]",
      "text/plain": [
       "<Figure size 288x288 with 1 Axes>"
      ]
     },
     "metadata": {},
     "output_type": "display_data"
    },
    {
     "data": {
      "image/png": "[encoded data removed]",
      "text/plain": [
       "<Figure size 288x288 with 1 Axes>"
      ]
     },
     "metadata": {},
     "output_type": "display_data"
    },
    {
     "data": {
      "image/png": "[encoded data removed]",
      "text/plain": [
       "<Figure size 288x288 with 1 Axes>"
      ]
     },
     "metadata": {},
     "output_type": "display_data"
    }
   ],
   "source": [
    "for ix in range(3):\n",
    "    fig = plt.figure(figsize=(4,4))\n",
    "    sns.kdeplot(*randoms, shade=True, n_levels=4, shade_lowest=False, gridsize=100, bw=5, color=pal[ix], cut=1.2)\n",
    "    ax = plt.gca()\n",
    "    ax.set_aspect('equal')\n",
    "    plt.xticks([])\n",
    "    plt.yticks([])\n",
    "    plt.savefig(f\"{diagram_path}/gauss_{ix}.pdf\", dpi=150)\n",
    "    plt.show()"
   ]
  },
  {
   "cell_type": "code",
   "execution_count": 118,
   "metadata": {},
   "outputs": [
    {
     "name": "stderr",
     "output_type": "stream",
     "text": [
      "/nfs/staff-ssd/zuegnerd/miniconda3/envs/tf/lib/python3.6/site-packages/ipykernel_launcher.py:2: RuntimeWarning: covariance is not symmetric positive-semidefinite.\n",
      "  \n"
     ]
    }
   ],
   "source": [
    "mean, cov = [0, 0], [(.1, 4), (2, .1)]\n",
    "x, y = np.random.multivariate_normal(mean, cov, size=52).T"
   ]
  },
  {
   "cell_type": "code",
   "execution_count": 599,
   "metadata": {},
   "outputs": [
    {
     "data": {
      "image/png": "[encoded data removed]",
      "text/plain": [
       "<Figure size 288x288 with 1 Axes>"
      ]
     },
     "metadata": {
      "needs_background": "light"
     },
     "output_type": "display_data"
    }
   ],
   "source": [
    "seed = 2133\n",
    "np.random.seed(seed*6)\n",
    "mean, cov = [-4, 3], [(3,1.5),\n",
    "                     (1.5,3)]\n",
    "x, y = np.random.multivariate_normal(mean, cov, size=52).T\n",
    "\n",
    "mean2, cov2 = [-9, 2], [(3.5,-.4),\n",
    "                     (-.4,.5)]\n",
    "x2, y2 = np.random.multivariate_normal(mean2, cov2, size=37).T\n",
    "mean3, cov3 = [-1, 8], [(3.5,-2),\n",
    "                     (-2,3)]\n",
    "x3, y3 = np.random.multivariate_normal(mean3, cov3, size=37).T\n",
    "x_concat = np.concatenate((x,x2, x3))/2\n",
    "y_concat = np.concatenate((y,y2, y3))/2\n",
    "\n",
    "ix = 0\n",
    "fig = plt.figure(figsize=(4,4))\n",
    "sns.kdeplot(x_concat,y_concat, shade=True, gridsize=200, levels=7, shade_lowest=False, color=pal[ix])\n",
    "ax = plt.gca()\n",
    "ax.set_aspect('equal')\n",
    "plt.axis('off')\n",
    "plt.savefig(f\"{diagram_path}/latent_{ix}.svg\", dpi=150, transparent=True)\n",
    "plt.show()"
   ]
  },
  {
   "cell_type": "code",
   "execution_count": 597,
   "metadata": {},
   "outputs": [
    {
     "data": {
      "image/png": "[encoded data removed]",
      "text/plain": [
       "<Figure size 288x288 with 1 Axes>"
      ]
     },
     "metadata": {
      "needs_background": "light"
     },
     "output_type": "display_data"
    }
   ],
   "source": [
    "seed = 2121\n",
    "np.random.seed(seed*6)\n",
    "mean, cov = [-4, 3], [(3,1.5),\n",
    "                     (1.5,3)]\n",
    "x, y = np.random.multivariate_normal(mean, cov, size=52).T\n",
    "\n",
    "mean2, cov2 = [-9, 2], [(3.5,-.4),\n",
    "                     (-.4,.5)]\n",
    "x2, y2 = np.random.multivariate_normal(mean2, cov2, size=37).T\n",
    "mean3, cov3 = [-1, 8], [(3.5,-2),\n",
    "                     (-2,3)]\n",
    "x3, y3 = np.random.multivariate_normal(mean3, cov3, size=37).T\n",
    "x_concat = np.concatenate((x,x2, x3))/2 * -1\n",
    "y_concat = np.concatenate((y,y2, y3))/2\n",
    "\n",
    "ix = 1\n",
    "fig = plt.figure(figsize=(4,4))\n",
    "sns.kdeplot(x_concat,y_concat, shade=True, gridsize=200, levels=7, shade_lowest=False, color=pal[ix])\n",
    "ax = plt.gca()\n",
    "ax.set_aspect('equal')\n",
    "plt.axis('off')\n",
    "plt.savefig(f\"{diagram_path}/latent_{ix}.svg\", dpi=150, transparent=True)\n",
    "plt.show()"
   ]
  },
  {
   "cell_type": "code",
   "execution_count": 596,
   "metadata": {},
   "outputs": [
    {
     "data": {
      "image/png": "[encoded data removed]",
      "text/plain": [
       "<Figure size 288x288 with 1 Axes>"
      ]
     },
     "metadata": {
      "needs_background": "light"
     },
     "output_type": "display_data"
    }
   ],
   "source": [
    "seed = 2121552\n",
    "np.random.seed(seed*15)\n",
    "mean, cov = [-4, 3], [(3,1.5),\n",
    "                     (1.5,3)]\n",
    "x, y = np.random.multivariate_normal(mean, cov, size=52).T\n",
    "\n",
    "mean2, cov2 = [-9, 2], [(3.5,-.4),\n",
    "                     (-.4,.5)]\n",
    "x2, y2 = np.random.multivariate_normal(mean2, cov2, size=37).T\n",
    "mean3, cov3 = [-1, 8], [(3.5,-2),\n",
    "                     (-2,3)]\n",
    "x3, y3 = np.random.multivariate_normal(mean3, cov3, size=37).T\n",
    "x_concat = np.concatenate((x,x2, x3))/2 * -1.1\n",
    "y_concat = np.concatenate((y,y2, y3))/2 * -0.8\n",
    "\n",
    "ix = 2\n",
    "fig = plt.figure(figsize=(4,4))\n",
    "sns.kdeplot(x_concat,y_concat, shade=True, gridsize=200, levels=7, shade_lowest=False, color=pal[ix])\n",
    "ax = plt.gca()\n",
    "ax.set_aspect('equal')\n",
    "plt.axis('off')\n",
    "plt.savefig(f\"{diagram_path}/latent_{ix}.svg\", dpi=150, transparent=True)\n",
    "plt.show()"
   ]
  },
  {
   "cell_type": "code",
   "execution_count": 519,
   "metadata": {},
   "outputs": [
    {
     "data": {
      "image/png": "[encoded data removed]",
      "text/plain": [
       "<Figure size 288x288 with 1 Axes>"
      ]
     },
     "metadata": {
      "needs_background": "light"
     },
     "output_type": "display_data"
    }
   ],
   "source": [
    "fig = plt.figure(figsize=(4,4))\n",
    "sns.kdeplot(x_concat,y_concat, shade=True, gridsize=200, levels=7, shade_lowest=False)\n",
    "ax = plt.gca()\n",
    "ax.set_aspect('equal')\n",
    "# plt.xlim((-15,2))\n",
    "# plt.ylim((-10,10))\n",
    "plt.show()"
   ]
  },
  {
   "cell_type": "code",
   "execution_count": null,
   "metadata": {},
   "outputs": [],
   "source": []
  },
  {
   "cell_type": "code",
   "execution_count": 601,
   "metadata": {},
   "outputs": [],
   "source": [
    "import numpy as np\n",
    "import matplotlib.pyplot as plt\n",
    "import matplotlib.tri as tri\n",
    "from functools import reduce\n",
    "from matplotlib import ticker, cm\n",
    "\n",
    "_corners = np.array([[0, 0], [1, 0], [0.5, 0.75**0.5]])\n",
    "_triangle = tri.Triangulation(_corners[:, 0], _corners[:, 1])\n",
    "_midpoints = [(_corners[(i + 1) % 3] + _corners[(i + 2) % 3]) / 2.0 for i in range(3)]\n",
    "\n",
    "def xy2bc(xy, tol=1.e-4):\n",
    "    '''Converts 2D Cartesian coordinates to barycentric.\n",
    "    Arguments:\n",
    "        `xy`: A length-2 sequence containing the x and y value.\n",
    "    '''\n",
    "    s = [(_corners[i] - _midpoints[i]).dot(xy - _midpoints[i]) / 0.75 for i in range(3)]\n",
    "    return np.clip(s, tol, 1.0 - tol)\n",
    "\n",
    "class Dirichlet(object):\n",
    "    def __init__(self, alpha):\n",
    "        '''Creates Dirichlet distribution with parameter `alpha`.'''\n",
    "        from math import gamma\n",
    "        from operator import mul\n",
    "        self._alpha = np.array(alpha)\n",
    "        self._coef = gamma(np.sum(self._alpha)) / reduce(mul, [gamma(a) for a in self._alpha])\n",
    "    def pdf(self, x):\n",
    "        '''Returns pdf value for `x`.'''\n",
    "        from operator import mul\n",
    "        return self._coef * reduce(mul, [xx ** (aa - 1) for (xx, aa) in zip(x, self._alpha)])\n",
    "    def sample(self, N):\n",
    "        '''Generates a random sample of size `N`.'''\n",
    "        return np.random.dirichlet(self._alpha, N)\n",
    "\n",
    "def draw_pdf_contours(dist, border=False, nlevels=200, subdiv=8, **kwargs):\n",
    "    '''Draws pdf contours over an equilateral triangle (2-simplex).\n",
    "    Arguments:\n",
    "        `dist`: A distribution instance with a `pdf` method.\n",
    "        `border` (bool): If True, the simplex border is drawn.\n",
    "        `nlevels` (int): Number of contours to draw.\n",
    "        `subdiv` (int): Number of recursive mesh subdivisions to create.\n",
    "        kwargs: Keyword args passed on to `plt.triplot`.\n",
    "    '''\n",
    "    from matplotlib import ticker, cm\n",
    "    import math\n",
    "\n",
    "    refiner = tri.UniformTriRefiner(_triangle)\n",
    "    trimesh = refiner.refine_triangulation(subdiv=subdiv)\n",
    "    pvals = [dist.pdf(xy2bc(xy)) for xy in zip(trimesh.x, trimesh.y)]\n",
    "\n",
    "    plt.tricontourf(trimesh, pvals, nlevels, cmap='summer', **kwargs)\n",
    "    plt.axis('equal')\n",
    "    plt.xlim(0, 1)\n",
    "    plt.ylim(0, 0.75**0.5)\n",
    "    plt.axis('off')\n",
    "    plt.triplot(_triangle, linewidth=1, antialiased=True)"
   ]
  },
  {
   "cell_type": "code",
   "execution_count": 626,
   "metadata": {},
   "outputs": [
    {
     "data": {
      "image/png": "[encoded data removed]",
      "text/plain": [
       "<Figure size 432x288 with 1 Axes>"
      ]
     },
     "metadata": {
      "needs_background": "light"
     },
     "output_type": "display_data"
    }
   ],
   "source": [
    "alpha = [2.8, 1.2, 1.2]\n",
    "dist = Dirichlet(alpha)\n",
    "draw_pdf_contours(dist)\n",
    "plt.savefig('simplex1.png', transparent=True, dpi=300)\n",
    "plt.show()\n"
   ]
  },
  {
   "cell_type": "code",
   "execution_count": 627,
   "metadata": {},
   "outputs": [
    {
     "data": {
      "image/png": "[encoded data removed]",
      "text/plain": [
       "<Figure size 432x288 with 1 Axes>"
      ]
     },
     "metadata": {
      "needs_background": "light"
     },
     "output_type": "display_data"
    }
   ],
   "source": [
    "alpha = [1.2,1.2,1.2]\n",
    "dist = Dirichlet(alpha)\n",
    "draw_pdf_contours(dist)\n",
    "plt.savefig('simplex2.png', transparent=True, dpi=300)\n",
    "plt.show()\n"
   ]
  },
  {
   "cell_type": "code",
   "execution_count": null,
   "metadata": {},
   "outputs": [],
   "source": [
    "alpha = [8,1.5,8]\n",
    "dist = Dirichlet(alpha)\n",
    "draw_pdf_contours(dist)\n",
    "plt.savefig('simplex3.png', transparent=True, dpi=300)\n",
    "plt.show()\n"
   ]
  },
  {
   "cell_type": "code",
   "execution_count": null,
   "metadata": {},
   "outputs": [],
   "source": []
  }
 ],
 "metadata": {
  "kernelspec": {
   "display_name": "Python 3",
   "language": "python",
   "name": "python3"
  },
  "language_info": {
   "codemirror_mode": {
    "name": "ipython",
    "version": 3
   },
   "file_extension": ".py",
   "mimetype": "text/x-python",
   "name": "python",
   "nbconvert_exporter": "python",
   "pygments_lexer": "ipython3",
   "version": "3.6.8"
  }
 },
 "nbformat": 4,
 "nbformat_minor": 4
}
